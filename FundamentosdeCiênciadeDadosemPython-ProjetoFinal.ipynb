{
 "cells": [
  {
   "cell_type": "code",
   "execution_count": 1,
   "id": "d5aeec65",
   "metadata": {},
   "outputs": [],
   "source": [
    "#Bibliotecas\n",
    "import pandas as pd\n",
    "import numpy as np\n",
    "from scipy import stats\n",
    "import matplotlib.pyplot as plt\n",
    "from sklearn import linear_model\n",
    "from sklearn.metrics import mean_squared_error, r2_score\n",
    "from pandas.plotting import scatter_matrix\n",
    "from sklearn.metrics import matthews_corrcoef"
   ]
  },
  {
   "cell_type": "code",
   "execution_count": 2,
   "id": "c8106028",
   "metadata": {},
   "outputs": [
    {
     "data": {
      "text/html": [
       "<div>\n",
       "<style scoped>\n",
       "    .dataframe tbody tr th:only-of-type {\n",
       "        vertical-align: middle;\n",
       "    }\n",
       "\n",
       "    .dataframe tbody tr th {\n",
       "        vertical-align: top;\n",
       "    }\n",
       "\n",
       "    .dataframe thead th {\n",
       "        text-align: right;\n",
       "    }\n",
       "</style>\n",
       "<table border=\"1\" class=\"dataframe\">\n",
       "  <thead>\n",
       "    <tr style=\"text-align: right;\">\n",
       "      <th></th>\n",
       "      <th>page_id</th>\n",
       "      <th>name</th>\n",
       "      <th>urlslug</th>\n",
       "      <th>ID</th>\n",
       "      <th>ALIGN</th>\n",
       "      <th>EYE</th>\n",
       "      <th>HAIR</th>\n",
       "      <th>SEX</th>\n",
       "      <th>GSM</th>\n",
       "      <th>ALIVE</th>\n",
       "      <th>APPEARANCES</th>\n",
       "      <th>FIRST APPEARANCE</th>\n",
       "      <th>YEAR</th>\n",
       "    </tr>\n",
       "  </thead>\n",
       "  <tbody>\n",
       "    <tr>\n",
       "      <th>0</th>\n",
       "      <td>1422</td>\n",
       "      <td>Batman (Bruce Wayne)</td>\n",
       "      <td>\\/wiki\\/Batman_(Bruce_Wayne)</td>\n",
       "      <td>Secret Identity</td>\n",
       "      <td>Good Characters</td>\n",
       "      <td>Blue Eyes</td>\n",
       "      <td>Black Hair</td>\n",
       "      <td>Male Characters</td>\n",
       "      <td>NaN</td>\n",
       "      <td>Living Characters</td>\n",
       "      <td>3093.0</td>\n",
       "      <td>1939, May</td>\n",
       "      <td>1939.0</td>\n",
       "    </tr>\n",
       "    <tr>\n",
       "      <th>1</th>\n",
       "      <td>23387</td>\n",
       "      <td>Superman (Clark Kent)</td>\n",
       "      <td>\\/wiki\\/Superman_(Clark_Kent)</td>\n",
       "      <td>Secret Identity</td>\n",
       "      <td>Good Characters</td>\n",
       "      <td>Blue Eyes</td>\n",
       "      <td>Black Hair</td>\n",
       "      <td>Male Characters</td>\n",
       "      <td>NaN</td>\n",
       "      <td>Living Characters</td>\n",
       "      <td>2496.0</td>\n",
       "      <td>1986, October</td>\n",
       "      <td>1986.0</td>\n",
       "    </tr>\n",
       "    <tr>\n",
       "      <th>2</th>\n",
       "      <td>1458</td>\n",
       "      <td>Green Lantern (Hal Jordan)</td>\n",
       "      <td>\\/wiki\\/Green_Lantern_(Hal_Jordan)</td>\n",
       "      <td>Secret Identity</td>\n",
       "      <td>Good Characters</td>\n",
       "      <td>Brown Eyes</td>\n",
       "      <td>Brown Hair</td>\n",
       "      <td>Male Characters</td>\n",
       "      <td>NaN</td>\n",
       "      <td>Living Characters</td>\n",
       "      <td>1565.0</td>\n",
       "      <td>1959, October</td>\n",
       "      <td>1959.0</td>\n",
       "    </tr>\n",
       "    <tr>\n",
       "      <th>3</th>\n",
       "      <td>1659</td>\n",
       "      <td>James Gordon (New Earth)</td>\n",
       "      <td>\\/wiki\\/James_Gordon_(New_Earth)</td>\n",
       "      <td>Public Identity</td>\n",
       "      <td>Good Characters</td>\n",
       "      <td>Brown Eyes</td>\n",
       "      <td>White Hair</td>\n",
       "      <td>Male Characters</td>\n",
       "      <td>NaN</td>\n",
       "      <td>Living Characters</td>\n",
       "      <td>1316.0</td>\n",
       "      <td>1987, February</td>\n",
       "      <td>1987.0</td>\n",
       "    </tr>\n",
       "    <tr>\n",
       "      <th>4</th>\n",
       "      <td>1576</td>\n",
       "      <td>Richard Grayson (New Earth)</td>\n",
       "      <td>\\/wiki\\/Richard_Grayson_(New_Earth)</td>\n",
       "      <td>Secret Identity</td>\n",
       "      <td>Good Characters</td>\n",
       "      <td>Blue Eyes</td>\n",
       "      <td>Black Hair</td>\n",
       "      <td>Male Characters</td>\n",
       "      <td>NaN</td>\n",
       "      <td>Living Characters</td>\n",
       "      <td>1237.0</td>\n",
       "      <td>1940, April</td>\n",
       "      <td>1940.0</td>\n",
       "    </tr>\n",
       "  </tbody>\n",
       "</table>\n",
       "</div>"
      ],
      "text/plain": [
       "   page_id                         name                              urlslug  \\\n",
       "0     1422         Batman (Bruce Wayne)         \\/wiki\\/Batman_(Bruce_Wayne)   \n",
       "1    23387        Superman (Clark Kent)        \\/wiki\\/Superman_(Clark_Kent)   \n",
       "2     1458   Green Lantern (Hal Jordan)   \\/wiki\\/Green_Lantern_(Hal_Jordan)   \n",
       "3     1659     James Gordon (New Earth)     \\/wiki\\/James_Gordon_(New_Earth)   \n",
       "4     1576  Richard Grayson (New Earth)  \\/wiki\\/Richard_Grayson_(New_Earth)   \n",
       "\n",
       "                ID            ALIGN         EYE        HAIR              SEX  \\\n",
       "0  Secret Identity  Good Characters   Blue Eyes  Black Hair  Male Characters   \n",
       "1  Secret Identity  Good Characters   Blue Eyes  Black Hair  Male Characters   \n",
       "2  Secret Identity  Good Characters  Brown Eyes  Brown Hair  Male Characters   \n",
       "3  Public Identity  Good Characters  Brown Eyes  White Hair  Male Characters   \n",
       "4  Secret Identity  Good Characters   Blue Eyes  Black Hair  Male Characters   \n",
       "\n",
       "   GSM              ALIVE  APPEARANCES FIRST APPEARANCE    YEAR  \n",
       "0  NaN  Living Characters       3093.0        1939, May  1939.0  \n",
       "1  NaN  Living Characters       2496.0    1986, October  1986.0  \n",
       "2  NaN  Living Characters       1565.0    1959, October  1959.0  \n",
       "3  NaN  Living Characters       1316.0   1987, February  1987.0  \n",
       "4  NaN  Living Characters       1237.0      1940, April  1940.0  "
      ]
     },
     "execution_count": 2,
     "metadata": {},
     "output_type": "execute_result"
    }
   ],
   "source": [
    "#Base\n",
    "base = pd.read_csv(\"C:/Users/012457631/Documents/Cursos_Resumos/FundamentosCiênciaDadosPython/dc-data.csv\")\n",
    "base.head()"
   ]
  },
  {
   "cell_type": "code",
   "execution_count": 3,
   "id": "4085bbcc",
   "metadata": {},
   "outputs": [],
   "source": [
    "#Emininar valores nulos\n",
    "base =base.dropna()"
   ]
  },
  {
   "cell_type": "code",
   "execution_count": 4,
   "id": "9fe21277",
   "metadata": {},
   "outputs": [
    {
     "data": {
      "text/plain": [
       "YEAR\n",
       "1943.0    1\n",
       "1959.0    1\n",
       "1964.0    1\n",
       "1976.0    1\n",
       "1983.0    1\n",
       "1984.0    3\n",
       "1985.0    1\n",
       "1986.0    2\n",
       "1987.0    2\n",
       "1988.0    1\n",
       "1989.0    2\n",
       "1992.0    1\n",
       "1993.0    1\n",
       "1994.0    2\n",
       "1995.0    1\n",
       "1996.0    1\n",
       "1997.0    2\n",
       "2002.0    1\n",
       "2003.0    4\n",
       "2004.0    1\n",
       "2005.0    1\n",
       "2006.0    4\n",
       "2008.0    1\n",
       "2009.0    2\n",
       "Name: APPEARANCES, dtype: int64"
      ]
     },
     "execution_count": 4,
     "metadata": {},
     "output_type": "execute_result"
    }
   ],
   "source": [
    "#1)Em qual ano apareceram os personagens mais antigos e quantos personagens apareceram naquele ano?\n",
    "base.groupby('YEAR')\n",
    "por_ano=base.groupby('YEAR')\n",
    "por_ano['APPEARANCES'].count()\n",
    "#O ano mais antigo foi 1935 com somente 1 personagem"
   ]
  },
  {
   "cell_type": "code",
   "execution_count": 5,
   "id": "85e4995d",
   "metadata": {},
   "outputs": [
    {
     "data": {
      "text/plain": [
       "count     38.000000\n",
       "mean      57.447368\n",
       "std       82.207285\n",
       "min        1.000000\n",
       "25%        8.500000\n",
       "50%       26.500000\n",
       "75%       71.750000\n",
       "max      371.000000\n",
       "Name: APPEARANCES, dtype: float64"
      ]
     },
     "execution_count": 5,
     "metadata": {},
     "output_type": "execute_result"
    }
   ],
   "source": [
    "#2)Forneça os números principais da estatística descritiva para o \n",
    "#campo que identifica a quantidade de aparições de uma personagem no formato:\n",
    "#Média, Desvio Padrão, Mínimo, 25%, Mediana, 75%, Máximo.\n",
    "base['APPEARANCES'].describe()"
   ]
  },
  {
   "cell_type": "code",
   "execution_count": 6,
   "id": "863aeea0",
   "metadata": {},
   "outputs": [
    {
     "data": {
      "text/html": [
       "<div>\n",
       "<style scoped>\n",
       "    .dataframe tbody tr th:only-of-type {\n",
       "        vertical-align: middle;\n",
       "    }\n",
       "\n",
       "    .dataframe tbody tr th {\n",
       "        vertical-align: top;\n",
       "    }\n",
       "\n",
       "    .dataframe thead th {\n",
       "        text-align: right;\n",
       "    }\n",
       "</style>\n",
       "<table border=\"1\" class=\"dataframe\">\n",
       "  <thead>\n",
       "    <tr style=\"text-align: right;\">\n",
       "      <th></th>\n",
       "      <th>count</th>\n",
       "      <th>mean</th>\n",
       "      <th>std</th>\n",
       "      <th>min</th>\n",
       "      <th>25%</th>\n",
       "      <th>50%</th>\n",
       "      <th>75%</th>\n",
       "      <th>max</th>\n",
       "    </tr>\n",
       "    <tr>\n",
       "      <th>name</th>\n",
       "      <th></th>\n",
       "      <th></th>\n",
       "      <th></th>\n",
       "      <th></th>\n",
       "      <th></th>\n",
       "      <th></th>\n",
       "      <th></th>\n",
       "      <th></th>\n",
       "    </tr>\n",
       "  </thead>\n",
       "  <tbody>\n",
       "    <tr>\n",
       "      <th>Achilles Warkiller (New Earth)</th>\n",
       "      <td>1.0</td>\n",
       "      <td>17.0</td>\n",
       "      <td>NaN</td>\n",
       "      <td>17.0</td>\n",
       "      <td>17.0</td>\n",
       "      <td>17.0</td>\n",
       "      <td>17.0</td>\n",
       "      <td>17.0</td>\n",
       "    </tr>\n",
       "    <tr>\n",
       "      <th>Alexander Burgess (New Earth)</th>\n",
       "      <td>1.0</td>\n",
       "      <td>4.0</td>\n",
       "      <td>NaN</td>\n",
       "      <td>4.0</td>\n",
       "      <td>4.0</td>\n",
       "      <td>4.0</td>\n",
       "      <td>4.0</td>\n",
       "      <td>4.0</td>\n",
       "    </tr>\n",
       "    <tr>\n",
       "      <th>Anissa Pierce (New Earth)</th>\n",
       "      <td>1.0</td>\n",
       "      <td>92.0</td>\n",
       "      <td>NaN</td>\n",
       "      <td>92.0</td>\n",
       "      <td>92.0</td>\n",
       "      <td>92.0</td>\n",
       "      <td>92.0</td>\n",
       "      <td>92.0</td>\n",
       "    </tr>\n",
       "    <tr>\n",
       "      <th>Big Thunder (New Earth)</th>\n",
       "      <td>1.0</td>\n",
       "      <td>1.0</td>\n",
       "      <td>NaN</td>\n",
       "      <td>1.0</td>\n",
       "      <td>1.0</td>\n",
       "      <td>1.0</td>\n",
       "      <td>1.0</td>\n",
       "      <td>1.0</td>\n",
       "    </tr>\n",
       "    <tr>\n",
       "      <th>Courtney Mason (New Earth)</th>\n",
       "      <td>1.0</td>\n",
       "      <td>34.0</td>\n",
       "      <td>NaN</td>\n",
       "      <td>34.0</td>\n",
       "      <td>34.0</td>\n",
       "      <td>34.0</td>\n",
       "      <td>34.0</td>\n",
       "      <td>34.0</td>\n",
       "    </tr>\n",
       "    <tr>\n",
       "      <th>Daria Hernandez (New Earth)</th>\n",
       "      <td>1.0</td>\n",
       "      <td>10.0</td>\n",
       "      <td>NaN</td>\n",
       "      <td>10.0</td>\n",
       "      <td>10.0</td>\n",
       "      <td>10.0</td>\n",
       "      <td>10.0</td>\n",
       "      <td>10.0</td>\n",
       "    </tr>\n",
       "    <tr>\n",
       "      <th>Fauna Faust (New Earth)</th>\n",
       "      <td>1.0</td>\n",
       "      <td>2.0</td>\n",
       "      <td>NaN</td>\n",
       "      <td>2.0</td>\n",
       "      <td>2.0</td>\n",
       "      <td>2.0</td>\n",
       "      <td>2.0</td>\n",
       "      <td>2.0</td>\n",
       "    </tr>\n",
       "    <tr>\n",
       "      <th>Frostbite (New Earth)</th>\n",
       "      <td>1.0</td>\n",
       "      <td>17.0</td>\n",
       "      <td>NaN</td>\n",
       "      <td>17.0</td>\n",
       "      <td>17.0</td>\n",
       "      <td>17.0</td>\n",
       "      <td>17.0</td>\n",
       "      <td>17.0</td>\n",
       "    </tr>\n",
       "    <tr>\n",
       "      <th>Gerri Brauer (Dakotaverse)</th>\n",
       "      <td>1.0</td>\n",
       "      <td>32.0</td>\n",
       "      <td>NaN</td>\n",
       "      <td>32.0</td>\n",
       "      <td>32.0</td>\n",
       "      <td>32.0</td>\n",
       "      <td>32.0</td>\n",
       "      <td>32.0</td>\n",
       "    </tr>\n",
       "    <tr>\n",
       "      <th>Grace Choi (New Earth)</th>\n",
       "      <td>1.0</td>\n",
       "      <td>100.0</td>\n",
       "      <td>NaN</td>\n",
       "      <td>100.0</td>\n",
       "      <td>100.0</td>\n",
       "      <td>100.0</td>\n",
       "      <td>100.0</td>\n",
       "      <td>100.0</td>\n",
       "    </tr>\n",
       "    <tr>\n",
       "      <th>Hartley Rathaway (New Earth)</th>\n",
       "      <td>1.0</td>\n",
       "      <td>160.0</td>\n",
       "      <td>NaN</td>\n",
       "      <td>160.0</td>\n",
       "      <td>160.0</td>\n",
       "      <td>160.0</td>\n",
       "      <td>160.0</td>\n",
       "      <td>160.0</td>\n",
       "    </tr>\n",
       "    <tr>\n",
       "      <th>Henry Cannon (New Earth)</th>\n",
       "      <td>1.0</td>\n",
       "      <td>8.0</td>\n",
       "      <td>NaN</td>\n",
       "      <td>8.0</td>\n",
       "      <td>8.0</td>\n",
       "      <td>8.0</td>\n",
       "      <td>8.0</td>\n",
       "      <td>8.0</td>\n",
       "    </tr>\n",
       "    <tr>\n",
       "      <th>Hero Cruz (New Earth)</th>\n",
       "      <td>1.0</td>\n",
       "      <td>21.0</td>\n",
       "      <td>NaN</td>\n",
       "      <td>21.0</td>\n",
       "      <td>21.0</td>\n",
       "      <td>21.0</td>\n",
       "      <td>21.0</td>\n",
       "      <td>21.0</td>\n",
       "    </tr>\n",
       "    <tr>\n",
       "      <th>Holly Robinson (New Earth)</th>\n",
       "      <td>1.0</td>\n",
       "      <td>114.0</td>\n",
       "      <td>NaN</td>\n",
       "      <td>114.0</td>\n",
       "      <td>114.0</td>\n",
       "      <td>114.0</td>\n",
       "      <td>114.0</td>\n",
       "      <td>114.0</td>\n",
       "    </tr>\n",
       "    <tr>\n",
       "      <th>Hugh Dawkins (New Earth)</th>\n",
       "      <td>1.0</td>\n",
       "      <td>74.0</td>\n",
       "      <td>NaN</td>\n",
       "      <td>74.0</td>\n",
       "      <td>74.0</td>\n",
       "      <td>74.0</td>\n",
       "      <td>74.0</td>\n",
       "      <td>74.0</td>\n",
       "    </tr>\n",
       "    <tr>\n",
       "      <th>Io (New Earth)</th>\n",
       "      <td>1.0</td>\n",
       "      <td>15.0</td>\n",
       "      <td>NaN</td>\n",
       "      <td>15.0</td>\n",
       "      <td>15.0</td>\n",
       "      <td>15.0</td>\n",
       "      <td>15.0</td>\n",
       "      <td>15.0</td>\n",
       "    </tr>\n",
       "    <tr>\n",
       "      <th>John Constantine (New Earth)</th>\n",
       "      <td>1.0</td>\n",
       "      <td>371.0</td>\n",
       "      <td>NaN</td>\n",
       "      <td>371.0</td>\n",
       "      <td>371.0</td>\n",
       "      <td>371.0</td>\n",
       "      <td>371.0</td>\n",
       "      <td>371.0</td>\n",
       "    </tr>\n",
       "    <tr>\n",
       "      <th>Joshua Barbazon (New Earth)</th>\n",
       "      <td>1.0</td>\n",
       "      <td>2.0</td>\n",
       "      <td>NaN</td>\n",
       "      <td>2.0</td>\n",
       "      <td>2.0</td>\n",
       "      <td>2.0</td>\n",
       "      <td>2.0</td>\n",
       "      <td>2.0</td>\n",
       "    </tr>\n",
       "    <tr>\n",
       "      <th>Josiah Power (New Earth)</th>\n",
       "      <td>1.0</td>\n",
       "      <td>20.0</td>\n",
       "      <td>NaN</td>\n",
       "      <td>20.0</td>\n",
       "      <td>20.0</td>\n",
       "      <td>20.0</td>\n",
       "      <td>20.0</td>\n",
       "      <td>20.0</td>\n",
       "    </tr>\n",
       "    <tr>\n",
       "      <th>Karen Lou Faulkner (New Earth)</th>\n",
       "      <td>1.0</td>\n",
       "      <td>65.0</td>\n",
       "      <td>NaN</td>\n",
       "      <td>65.0</td>\n",
       "      <td>65.0</td>\n",
       "      <td>65.0</td>\n",
       "      <td>65.0</td>\n",
       "      <td>65.0</td>\n",
       "    </tr>\n",
       "    <tr>\n",
       "      <th>Katherine Kane (New Earth)</th>\n",
       "      <td>1.0</td>\n",
       "      <td>51.0</td>\n",
       "      <td>NaN</td>\n",
       "      <td>51.0</td>\n",
       "      <td>51.0</td>\n",
       "      <td>51.0</td>\n",
       "      <td>51.0</td>\n",
       "      <td>51.0</td>\n",
       "    </tr>\n",
       "    <tr>\n",
       "      <th>Kevin Mayer (New Earth)</th>\n",
       "      <td>1.0</td>\n",
       "      <td>3.0</td>\n",
       "      <td>NaN</td>\n",
       "      <td>3.0</td>\n",
       "      <td>3.0</td>\n",
       "      <td>3.0</td>\n",
       "      <td>3.0</td>\n",
       "      <td>3.0</td>\n",
       "    </tr>\n",
       "    <tr>\n",
       "      <th>Knockout (New Earth)</th>\n",
       "      <td>1.0</td>\n",
       "      <td>53.0</td>\n",
       "      <td>NaN</td>\n",
       "      <td>53.0</td>\n",
       "      <td>53.0</td>\n",
       "      <td>53.0</td>\n",
       "      <td>53.0</td>\n",
       "      <td>53.0</td>\n",
       "    </tr>\n",
       "    <tr>\n",
       "      <th>Liana Kerzner (New Earth)</th>\n",
       "      <td>1.0</td>\n",
       "      <td>10.0</td>\n",
       "      <td>NaN</td>\n",
       "      <td>10.0</td>\n",
       "      <td>10.0</td>\n",
       "      <td>10.0</td>\n",
       "      <td>10.0</td>\n",
       "      <td>10.0</td>\n",
       "    </tr>\n",
       "    <tr>\n",
       "      <th>Mallah (New Earth)</th>\n",
       "      <td>1.0</td>\n",
       "      <td>85.0</td>\n",
       "      <td>NaN</td>\n",
       "      <td>85.0</td>\n",
       "      <td>85.0</td>\n",
       "      <td>85.0</td>\n",
       "      <td>85.0</td>\n",
       "      <td>85.0</td>\n",
       "    </tr>\n",
       "    <tr>\n",
       "      <th>Mallory Kimball (New Earth)</th>\n",
       "      <td>1.0</td>\n",
       "      <td>6.0</td>\n",
       "      <td>NaN</td>\n",
       "      <td>6.0</td>\n",
       "      <td>6.0</td>\n",
       "      <td>6.0</td>\n",
       "      <td>6.0</td>\n",
       "      <td>6.0</td>\n",
       "    </tr>\n",
       "    <tr>\n",
       "      <th>Marschall Saber (New Earth)</th>\n",
       "      <td>1.0</td>\n",
       "      <td>8.0</td>\n",
       "      <td>NaN</td>\n",
       "      <td>8.0</td>\n",
       "      <td>8.0</td>\n",
       "      <td>8.0</td>\n",
       "      <td>8.0</td>\n",
       "      <td>8.0</td>\n",
       "    </tr>\n",
       "    <tr>\n",
       "      <th>Mikaal Tomas (New Earth)</th>\n",
       "      <td>1.0</td>\n",
       "      <td>87.0</td>\n",
       "      <td>NaN</td>\n",
       "      <td>87.0</td>\n",
       "      <td>87.0</td>\n",
       "      <td>87.0</td>\n",
       "      <td>87.0</td>\n",
       "      <td>87.0</td>\n",
       "    </tr>\n",
       "    <tr>\n",
       "      <th>Mortimer Drake (New Earth)</th>\n",
       "      <td>1.0</td>\n",
       "      <td>32.0</td>\n",
       "      <td>NaN</td>\n",
       "      <td>32.0</td>\n",
       "      <td>32.0</td>\n",
       "      <td>32.0</td>\n",
       "      <td>32.0</td>\n",
       "      <td>32.0</td>\n",
       "    </tr>\n",
       "    <tr>\n",
       "      <th>Ramsey Robinson (New Earth)</th>\n",
       "      <td>1.0</td>\n",
       "      <td>36.0</td>\n",
       "      <td>NaN</td>\n",
       "      <td>36.0</td>\n",
       "      <td>36.0</td>\n",
       "      <td>36.0</td>\n",
       "      <td>36.0</td>\n",
       "      <td>36.0</td>\n",
       "    </tr>\n",
       "    <tr>\n",
       "      <th>Renee Montoya (New Earth)</th>\n",
       "      <td>1.0</td>\n",
       "      <td>308.0</td>\n",
       "      <td>NaN</td>\n",
       "      <td>308.0</td>\n",
       "      <td>308.0</td>\n",
       "      <td>308.0</td>\n",
       "      <td>308.0</td>\n",
       "      <td>308.0</td>\n",
       "    </tr>\n",
       "    <tr>\n",
       "      <th>Scandal Savage (New Earth)</th>\n",
       "      <td>1.0</td>\n",
       "      <td>65.0</td>\n",
       "      <td>NaN</td>\n",
       "      <td>65.0</td>\n",
       "      <td>65.0</td>\n",
       "      <td>65.0</td>\n",
       "      <td>65.0</td>\n",
       "      <td>65.0</td>\n",
       "    </tr>\n",
       "    <tr>\n",
       "      <th>Sigrid Nansen (New Earth)</th>\n",
       "      <td>1.0</td>\n",
       "      <td>38.0</td>\n",
       "      <td>NaN</td>\n",
       "      <td>38.0</td>\n",
       "      <td>38.0</td>\n",
       "      <td>38.0</td>\n",
       "      <td>38.0</td>\n",
       "      <td>38.0</td>\n",
       "    </tr>\n",
       "    <tr>\n",
       "      <th>Syonide II (New Earth)</th>\n",
       "      <td>1.0</td>\n",
       "      <td>12.0</td>\n",
       "      <td>NaN</td>\n",
       "      <td>12.0</td>\n",
       "      <td>12.0</td>\n",
       "      <td>12.0</td>\n",
       "      <td>12.0</td>\n",
       "      <td>12.0</td>\n",
       "    </tr>\n",
       "    <tr>\n",
       "      <th>Thomas Jagger (New Earth)</th>\n",
       "      <td>1.0</td>\n",
       "      <td>19.0</td>\n",
       "      <td>NaN</td>\n",
       "      <td>19.0</td>\n",
       "      <td>19.0</td>\n",
       "      <td>19.0</td>\n",
       "      <td>19.0</td>\n",
       "      <td>19.0</td>\n",
       "    </tr>\n",
       "    <tr>\n",
       "      <th>Todd Rice (New Earth)</th>\n",
       "      <td>1.0</td>\n",
       "      <td>208.0</td>\n",
       "      <td>NaN</td>\n",
       "      <td>208.0</td>\n",
       "      <td>208.0</td>\n",
       "      <td>208.0</td>\n",
       "      <td>208.0</td>\n",
       "      <td>208.0</td>\n",
       "    </tr>\n",
       "    <tr>\n",
       "      <th>Todd Rice (Some Years Later)</th>\n",
       "      <td>1.0</td>\n",
       "      <td>2.0</td>\n",
       "      <td>NaN</td>\n",
       "      <td>2.0</td>\n",
       "      <td>2.0</td>\n",
       "      <td>2.0</td>\n",
       "      <td>2.0</td>\n",
       "      <td>2.0</td>\n",
       "    </tr>\n",
       "    <tr>\n",
       "      <th>Twilight II (New Earth)</th>\n",
       "      <td>1.0</td>\n",
       "      <td>1.0</td>\n",
       "      <td>NaN</td>\n",
       "      <td>1.0</td>\n",
       "      <td>1.0</td>\n",
       "      <td>1.0</td>\n",
       "      <td>1.0</td>\n",
       "      <td>1.0</td>\n",
       "    </tr>\n",
       "  </tbody>\n",
       "</table>\n",
       "</div>"
      ],
      "text/plain": [
       "                                count   mean  std    min    25%    50%    75%  \\\n",
       "name                                                                            \n",
       "Achilles Warkiller (New Earth)    1.0   17.0  NaN   17.0   17.0   17.0   17.0   \n",
       "Alexander Burgess (New Earth)     1.0    4.0  NaN    4.0    4.0    4.0    4.0   \n",
       "Anissa Pierce (New Earth)         1.0   92.0  NaN   92.0   92.0   92.0   92.0   \n",
       "Big Thunder (New Earth)           1.0    1.0  NaN    1.0    1.0    1.0    1.0   \n",
       "Courtney Mason (New Earth)        1.0   34.0  NaN   34.0   34.0   34.0   34.0   \n",
       "Daria Hernandez (New Earth)       1.0   10.0  NaN   10.0   10.0   10.0   10.0   \n",
       "Fauna Faust (New Earth)           1.0    2.0  NaN    2.0    2.0    2.0    2.0   \n",
       "Frostbite (New Earth)             1.0   17.0  NaN   17.0   17.0   17.0   17.0   \n",
       "Gerri Brauer (Dakotaverse)        1.0   32.0  NaN   32.0   32.0   32.0   32.0   \n",
       "Grace Choi (New Earth)            1.0  100.0  NaN  100.0  100.0  100.0  100.0   \n",
       "Hartley Rathaway (New Earth)      1.0  160.0  NaN  160.0  160.0  160.0  160.0   \n",
       "Henry Cannon (New Earth)          1.0    8.0  NaN    8.0    8.0    8.0    8.0   \n",
       "Hero Cruz (New Earth)             1.0   21.0  NaN   21.0   21.0   21.0   21.0   \n",
       "Holly Robinson (New Earth)        1.0  114.0  NaN  114.0  114.0  114.0  114.0   \n",
       "Hugh Dawkins (New Earth)          1.0   74.0  NaN   74.0   74.0   74.0   74.0   \n",
       "Io (New Earth)                    1.0   15.0  NaN   15.0   15.0   15.0   15.0   \n",
       "John Constantine (New Earth)      1.0  371.0  NaN  371.0  371.0  371.0  371.0   \n",
       "Joshua Barbazon (New Earth)       1.0    2.0  NaN    2.0    2.0    2.0    2.0   \n",
       "Josiah Power (New Earth)          1.0   20.0  NaN   20.0   20.0   20.0   20.0   \n",
       "Karen Lou Faulkner (New Earth)    1.0   65.0  NaN   65.0   65.0   65.0   65.0   \n",
       "Katherine Kane (New Earth)        1.0   51.0  NaN   51.0   51.0   51.0   51.0   \n",
       "Kevin Mayer (New Earth)           1.0    3.0  NaN    3.0    3.0    3.0    3.0   \n",
       "Knockout (New Earth)              1.0   53.0  NaN   53.0   53.0   53.0   53.0   \n",
       "Liana Kerzner (New Earth)         1.0   10.0  NaN   10.0   10.0   10.0   10.0   \n",
       "Mallah (New Earth)                1.0   85.0  NaN   85.0   85.0   85.0   85.0   \n",
       "Mallory Kimball (New Earth)       1.0    6.0  NaN    6.0    6.0    6.0    6.0   \n",
       "Marschall Saber (New Earth)       1.0    8.0  NaN    8.0    8.0    8.0    8.0   \n",
       "Mikaal Tomas (New Earth)          1.0   87.0  NaN   87.0   87.0   87.0   87.0   \n",
       "Mortimer Drake (New Earth)        1.0   32.0  NaN   32.0   32.0   32.0   32.0   \n",
       "Ramsey Robinson (New Earth)       1.0   36.0  NaN   36.0   36.0   36.0   36.0   \n",
       "Renee Montoya (New Earth)         1.0  308.0  NaN  308.0  308.0  308.0  308.0   \n",
       "Scandal Savage (New Earth)        1.0   65.0  NaN   65.0   65.0   65.0   65.0   \n",
       "Sigrid Nansen (New Earth)         1.0   38.0  NaN   38.0   38.0   38.0   38.0   \n",
       "Syonide II (New Earth)            1.0   12.0  NaN   12.0   12.0   12.0   12.0   \n",
       "Thomas Jagger (New Earth)         1.0   19.0  NaN   19.0   19.0   19.0   19.0   \n",
       "Todd Rice (New Earth)             1.0  208.0  NaN  208.0  208.0  208.0  208.0   \n",
       "Todd Rice (Some Years Later)      1.0    2.0  NaN    2.0    2.0    2.0    2.0   \n",
       "Twilight II (New Earth)           1.0    1.0  NaN    1.0    1.0    1.0    1.0   \n",
       "\n",
       "                                  max  \n",
       "name                                   \n",
       "Achilles Warkiller (New Earth)   17.0  \n",
       "Alexander Burgess (New Earth)     4.0  \n",
       "Anissa Pierce (New Earth)        92.0  \n",
       "Big Thunder (New Earth)           1.0  \n",
       "Courtney Mason (New Earth)       34.0  \n",
       "Daria Hernandez (New Earth)      10.0  \n",
       "Fauna Faust (New Earth)           2.0  \n",
       "Frostbite (New Earth)            17.0  \n",
       "Gerri Brauer (Dakotaverse)       32.0  \n",
       "Grace Choi (New Earth)          100.0  \n",
       "Hartley Rathaway (New Earth)    160.0  \n",
       "Henry Cannon (New Earth)          8.0  \n",
       "Hero Cruz (New Earth)            21.0  \n",
       "Holly Robinson (New Earth)      114.0  \n",
       "Hugh Dawkins (New Earth)         74.0  \n",
       "Io (New Earth)                   15.0  \n",
       "John Constantine (New Earth)    371.0  \n",
       "Joshua Barbazon (New Earth)       2.0  \n",
       "Josiah Power (New Earth)         20.0  \n",
       "Karen Lou Faulkner (New Earth)   65.0  \n",
       "Katherine Kane (New Earth)       51.0  \n",
       "Kevin Mayer (New Earth)           3.0  \n",
       "Knockout (New Earth)             53.0  \n",
       "Liana Kerzner (New Earth)        10.0  \n",
       "Mallah (New Earth)               85.0  \n",
       "Mallory Kimball (New Earth)       6.0  \n",
       "Marschall Saber (New Earth)       8.0  \n",
       "Mikaal Tomas (New Earth)         87.0  \n",
       "Mortimer Drake (New Earth)       32.0  \n",
       "Ramsey Robinson (New Earth)      36.0  \n",
       "Renee Montoya (New Earth)       308.0  \n",
       "Scandal Savage (New Earth)       65.0  \n",
       "Sigrid Nansen (New Earth)        38.0  \n",
       "Syonide II (New Earth)           12.0  \n",
       "Thomas Jagger (New Earth)        19.0  \n",
       "Todd Rice (New Earth)           208.0  \n",
       "Todd Rice (Some Years Later)      2.0  \n",
       "Twilight II (New Earth)           1.0  "
      ]
     },
     "execution_count": 6,
     "metadata": {},
     "output_type": "execute_result"
    }
   ],
   "source": [
    "#2)Forneça os números principais da estatística descritiva para o \n",
    "#campo que identifica a quantidade de aparições de uma personagem no formato:\n",
    "#Média, Desvio Padrão, Mínimo, 25%, Mediana, 75%, Máximo.\n",
    "base.groupby('name')\n",
    "por_nome=base.groupby('name')\n",
    "por_nome['APPEARANCES'].describe()"
   ]
  },
  {
   "cell_type": "code",
   "execution_count": 7,
   "id": "15ade820",
   "metadata": {},
   "outputs": [
    {
     "data": {
      "text/plain": [
       "38"
      ]
     },
     "execution_count": 7,
     "metadata": {},
     "output_type": "execute_result"
    }
   ],
   "source": [
    "base['name'].nunique()"
   ]
  },
  {
   "cell_type": "code",
   "execution_count": 8,
   "id": "57a37acd",
   "metadata": {},
   "outputs": [
    {
     "data": {
      "text/plain": [
       "Syonide II (New Earth)            1\n",
       "Ramsey Robinson (New Earth)       1\n",
       "Mortimer Drake (New Earth)        1\n",
       "Mikaal Tomas (New Earth)          1\n",
       "Anissa Pierce (New Earth)         1\n",
       "Io (New Earth)                    1\n",
       "Fauna Faust (New Earth)           1\n",
       "Alexander Burgess (New Earth)     1\n",
       "Liana Kerzner (New Earth)         1\n",
       "John Constantine (New Earth)      1\n",
       "Gerri Brauer (Dakotaverse)        1\n",
       "Joshua Barbazon (New Earth)       1\n",
       "Todd Rice (New Earth)             1\n",
       "Kevin Mayer (New Earth)           1\n",
       "Frostbite (New Earth)             1\n",
       "Josiah Power (New Earth)          1\n",
       "Hero Cruz (New Earth)             1\n",
       "Katherine Kane (New Earth)        1\n",
       "Renee Montoya (New Earth)         1\n",
       "Mallah (New Earth)                1\n",
       "Scandal Savage (New Earth)        1\n",
       "Hugh Dawkins (New Earth)          1\n",
       "Hartley Rathaway (New Earth)      1\n",
       "Henry Cannon (New Earth)          1\n",
       "Big Thunder (New Earth)           1\n",
       "Grace Choi (New Earth)            1\n",
       "Marschall Saber (New Earth)       1\n",
       "Karen Lou Faulkner (New Earth)    1\n",
       "Sigrid Nansen (New Earth)         1\n",
       "Knockout (New Earth)              1\n",
       "Daria Hernandez (New Earth)       1\n",
       "Mallory Kimball (New Earth)       1\n",
       "Achilles Warkiller (New Earth)    1\n",
       "Courtney Mason (New Earth)        1\n",
       "Todd Rice (Some Years Later)      1\n",
       "Twilight II (New Earth)           1\n",
       "Holly Robinson (New Earth)        1\n",
       "Thomas Jagger (New Earth)         1\n",
       "Name: name, dtype: int64"
      ]
     },
     "execution_count": 8,
     "metadata": {},
     "output_type": "execute_result"
    }
   ],
   "source": [
    "#Em nossa base cada personagem aparece somente uma vez, por isso os valores das estatísticas descritivas estão iguais\n",
    "#e não é possível calcular o desvio padrão\n",
    "base['name'].value_counts()"
   ]
  },
  {
   "cell_type": "code",
   "execution_count": 9,
   "id": "b4c62375",
   "metadata": {},
   "outputs": [
    {
     "name": "stdout",
     "output_type": "stream",
     "text": [
      "['Good Characters' 'Bad Characters' 'Neutral Characters']\n"
     ]
    }
   ],
   "source": [
    "#3)Qual a diferença entre o número de aparições entre heróis/heroínas e vilões/vilãs?\n",
    "#A diferença de aparições entres heróis/heroínas e vilões/vilãs é de 1558.0\n",
    "tipo_perso = base[['APPEARANCES', 'ALIGN']]\n",
    "#valores unicos do tipo de personagem\n",
    "personagem = pd.unique(tipo_perso.ALIGN.values)\n",
    "print(personagem)"
   ]
  },
  {
   "cell_type": "code",
   "execution_count": 10,
   "id": "a7962908",
   "metadata": {},
   "outputs": [],
   "source": [
    "#Cria um dicionário\n",
    "#Gera uma lista pra cada tipo de personagem\n",
    "base_tipo_perso = {tp:tipo_perso['APPEARANCES'][tipo_perso.ALIGN == tp] for tp in personagem}"
   ]
  },
  {
   "cell_type": "code",
   "execution_count": 11,
   "id": "39fc8a1c",
   "metadata": {},
   "outputs": [
    {
     "data": {
      "text/plain": [
       "1558.0"
      ]
     },
     "execution_count": 11,
     "metadata": {},
     "output_type": "execute_result"
    }
   ],
   "source": [
    "base_tipo_perso['Good Characters'].sum()\n",
    "base_tipo_perso['Bad Characters'].sum()\n",
    "total_heroi=base_tipo_perso['Good Characters'].sum()\n",
    "total_vilao=base_tipo_perso['Bad Characters'].sum()\n",
    "dif=total_heroi-total_vilao\n",
    "dif"
   ]
  },
  {
   "cell_type": "code",
   "execution_count": 12,
   "id": "6610b507",
   "metadata": {},
   "outputs": [
    {
     "data": {
      "text/plain": [
       "array(['Bisexual Characters', 'Homosexual Characters'], dtype=object)"
      ]
     },
     "execution_count": 12,
     "metadata": {},
     "output_type": "execute_result"
    }
   ],
   "source": [
    "#4)Em que ano apareceu o primeiro personagem bissexual? Quantas vezes esse personagem apareceu no total?\n",
    "base['GSM'].unique()"
   ]
  },
  {
   "cell_type": "code",
   "execution_count": 13,
   "id": "7ef03637",
   "metadata": {},
   "outputs": [
    {
     "data": {
      "text/plain": [
       "48      1984.0\n",
       "292     2003.0\n",
       "555     1994.0\n",
       "750     1986.0\n",
       "824     1993.0\n",
       "886     1943.0\n",
       "1490    1997.0\n",
       "Name: YEAR, dtype: float64"
      ]
     },
     "execution_count": 13,
     "metadata": {},
     "output_type": "execute_result"
    }
   ],
   "source": [
    "bis = base[base[\"GSM\"] == \"Bisexual Characters\"][\"YEAR\"]\n",
    "bis"
   ]
  },
  {
   "cell_type": "code",
   "execution_count": 14,
   "id": "27a858ea",
   "metadata": {},
   "outputs": [
    {
     "data": {
      "text/html": [
       "<div>\n",
       "<style scoped>\n",
       "    .dataframe tbody tr th:only-of-type {\n",
       "        vertical-align: middle;\n",
       "    }\n",
       "\n",
       "    .dataframe tbody tr th {\n",
       "        vertical-align: top;\n",
       "    }\n",
       "\n",
       "    .dataframe thead th {\n",
       "        text-align: right;\n",
       "    }\n",
       "</style>\n",
       "<table border=\"1\" class=\"dataframe\">\n",
       "  <thead>\n",
       "    <tr style=\"text-align: right;\">\n",
       "      <th></th>\n",
       "      <th>page_id</th>\n",
       "      <th>name</th>\n",
       "      <th>urlslug</th>\n",
       "      <th>ID</th>\n",
       "      <th>ALIGN</th>\n",
       "      <th>EYE</th>\n",
       "      <th>HAIR</th>\n",
       "      <th>SEX</th>\n",
       "      <th>GSM</th>\n",
       "      <th>ALIVE</th>\n",
       "      <th>APPEARANCES</th>\n",
       "      <th>FIRST APPEARANCE</th>\n",
       "      <th>YEAR</th>\n",
       "    </tr>\n",
       "  </thead>\n",
       "  <tbody>\n",
       "    <tr>\n",
       "      <th>886</th>\n",
       "      <td>19048</td>\n",
       "      <td>Mortimer Drake (New Earth)</td>\n",
       "      <td>\\/wiki\\/Mortimer_Drake_(New_Earth)</td>\n",
       "      <td>Secret Identity</td>\n",
       "      <td>Bad Characters</td>\n",
       "      <td>Brown Eyes</td>\n",
       "      <td>Brown Hair</td>\n",
       "      <td>Male Characters</td>\n",
       "      <td>Bisexual Characters</td>\n",
       "      <td>Living Characters</td>\n",
       "      <td>32.0</td>\n",
       "      <td>1943, November</td>\n",
       "      <td>1943.0</td>\n",
       "    </tr>\n",
       "  </tbody>\n",
       "</table>\n",
       "</div>"
      ],
      "text/plain": [
       "     page_id                        name                             urlslug  \\\n",
       "886    19048  Mortimer Drake (New Earth)  \\/wiki\\/Mortimer_Drake_(New_Earth)   \n",
       "\n",
       "                  ID           ALIGN         EYE        HAIR              SEX  \\\n",
       "886  Secret Identity  Bad Characters  Brown Eyes  Brown Hair  Male Characters   \n",
       "\n",
       "                     GSM              ALIVE  APPEARANCES FIRST APPEARANCE  \\\n",
       "886  Bisexual Characters  Living Characters         32.0   1943, November   \n",
       "\n",
       "       YEAR  \n",
       "886  1943.0  "
      ]
     },
     "execution_count": 14,
     "metadata": {},
     "output_type": "execute_result"
    }
   ],
   "source": [
    "#Mortimer Drake (New Earth) foi o primeiro bissexual, sua primeira aparição foi em 1943 e ele apareceu 32 vezes\n",
    "newdf = base[(base[\"GSM\"] == \"Bisexual Characters\") & (base['YEAR']==1943)]\n",
    "newdf.head()"
   ]
  },
  {
   "cell_type": "code",
   "execution_count": 15,
   "id": "95be0308",
   "metadata": {},
   "outputs": [
    {
     "data": {
      "text/plain": [
       "2.5212000213160275"
      ]
     },
     "execution_count": 15,
     "metadata": {},
     "output_type": "execute_result"
    }
   ],
   "source": [
    "#5)Qual o valor da obliquidade da variável com o número de aparições de cada personagem? Ignore as casas decimais.\n",
    "aparicao=base[\"APPEARANCES\"]\n",
    "aparicao.skew(axis=0, skipna=True)\n",
    "#A uma assimetria positiva"
   ]
  },
  {
   "cell_type": "code",
   "execution_count": 16,
   "id": "10b78c65",
   "metadata": {},
   "outputs": [
    {
     "data": {
      "text/plain": [
       "6.737358330182506"
      ]
     },
     "execution_count": 16,
     "metadata": {},
     "output_type": "execute_result"
    }
   ],
   "source": [
    "#6)Qual o valor da curtose da variável com o número de aparições de cada personagem? Ignore as casas decimais.\n",
    "aparicao.kurtosis(axis=0, skipna=True)"
   ]
  },
  {
   "cell_type": "code",
   "execution_count": 17,
   "id": "6a547713",
   "metadata": {},
   "outputs": [
    {
     "data": {
      "text/plain": [
       "count     38.000000\n",
       "mean      57.447368\n",
       "std       82.207285\n",
       "min        1.000000\n",
       "25%        8.500000\n",
       "50%       26.500000\n",
       "75%       71.750000\n",
       "max      371.000000\n",
       "Name: APPEARANCES, dtype: float64"
      ]
     },
     "execution_count": 17,
     "metadata": {},
     "output_type": "execute_result"
    }
   ],
   "source": [
    "#7)Com base nas informações sobre a distribuição da variável\n",
    "#sobre aparições das personagens, como você classifica essa distribuição?\n",
    "aparicao.describe()\n",
    "#A média e a mediana estão muito distantes, provavelmente não é uma distribuição normal"
   ]
  },
  {
   "cell_type": "code",
   "execution_count": 35,
   "id": "4d893b71",
   "metadata": {},
   "outputs": [
    {
     "data": {
      "text/plain": [
       "<scipy.stats._distn_infrastructure.rv_frozen at 0x234e3292730>"
      ]
     },
     "execution_count": 35,
     "metadata": {},
     "output_type": "execute_result"
    }
   ],
   "source": [
    "media = aparicao.mean()\n",
    "devpd = aparicao.std()\n",
    "min = aparicao.min()\n",
    "max = aparicao.max()\n",
    "n = aparicao.count()\n",
    "\n",
    "distr_aparicao = stats.norm(media, devpd)"
   ]
  },
  {
   "cell_type": "code",
   "execution_count": 19,
   "id": "f4a4dda1",
   "metadata": {},
   "outputs": [
    {
     "data": {
      "text/plain": [
       "[<matplotlib.lines.Line2D at 0x234f87f7880>]"
      ]
     },
     "execution_count": 19,
     "metadata": {},
     "output_type": "execute_result"
    },
    {
     "data": {
      "image/png": "[encoded data removed]",
      "text/plain": [
       "<Figure size 432x288 with 1 Axes>"
      ]
     },
     "metadata": {
      "needs_background": "light"
     },
     "output_type": "display_data"
    }
   ],
   "source": [
    "x = np.linspace(min, max, n)\n",
    "y = distr_aparicao.pdf(x)\n",
    "plt.plot(x, y)\n",
    "#Como já era suspeito, a distribuição não é normal e há uma assimetria positiva \n",
    "\n",
    "#b) Distribuição assimétrica á esquerda, com valores extremos além de 3 desvios padrões da média"
   ]
  },
  {
   "cell_type": "code",
   "execution_count": 20,
   "id": "16c101db",
   "metadata": {},
   "outputs": [],
   "source": [
    "#8)Você deseja testar a hipótese que há uma tendência maior em reportar mulheres como heroínas do que homens como vilões. \n",
    "#Para isso, você quer testar se há de fato uma diferença significativa entre mulheres heroínas e homens vilões. \n",
    "#Que tipo de teste é o mais adequado?\n",
    "\n",
    "#Como são variáveis categóricas, o testes mais adequado é o Chi Quadrado"
   ]
  },
  {
   "cell_type": "code",
   "execution_count": 21,
   "id": "33dab404",
   "metadata": {},
   "outputs": [
    {
     "data": {
      "text/plain": [
       "Power_divergenceResult(statistic=19.94736842105263, pvalue=4.661052376199752e-05)"
      ]
     },
     "execution_count": 21,
     "metadata": {},
     "output_type": "execute_result"
    }
   ],
   "source": [
    "#9)Você deseja testar a hipótese que há uma tendência maior em reportar mulheres como heroínas do que homens como vilões.\n",
    "#Para isso, você quer testar se há de fato uma diferença significativa entre mulheres heroínas e homens vilões.\n",
    "#Baseado em um nível de confiança de 5%, utilize o teste mais adequado e responda:\n",
    "\n",
    "#a) Qual o valor da estatística do teste (valor de Z ou T ou X2 ou F)?\n",
    "\n",
    "import scipy.stats\n",
    "from scipy.stats import chi2\n",
    "from scipy.stats import chi2_contingency\n",
    "basetesteCHI = base[['SEX', 'ALIGN']]\n",
    "#Verificar as frequências\n",
    "scipy.stats.chisquare(basetesteCHI['SEX'].value_counts())\n",
    "scipy.stats.chisquare(basetesteCHI['ALIGN'].value_counts())"
   ]
  },
  {
   "cell_type": "code",
   "execution_count": 22,
   "id": "d8c47911",
   "metadata": {},
   "outputs": [
    {
     "name": "stdout",
     "output_type": "stream",
     "text": [
      "ALIGN              Bad Characters  Good Characters  Neutral Characters\n",
      "SEX                                                                   \n",
      "Female Characters               5               10                   3\n",
      "Male Characters                 5               15                   0\n"
     ]
    }
   ],
   "source": [
    "freq_table = pd.crosstab(basetesteCHI['SEX'], basetesteCHI['ALIGN'])\n",
    "print(freq_table)"
   ]
  },
  {
   "cell_type": "code",
   "execution_count": 43,
   "id": "f044700e",
   "metadata": {},
   "outputs": [
    {
     "data": {
      "text/plain": [
       "3.905555555555556"
      ]
     },
     "execution_count": 43,
     "metadata": {},
     "output_type": "execute_result"
    }
   ],
   "source": [
    "chi2stat, p, dof, freq_exp = chi2_contingency(freq_table)\n",
    "chi2stat\n",
    "#O valor da estatística é 3,905"
   ]
  },
  {
   "cell_type": "code",
   "execution_count": 23,
   "id": "f19e3477",
   "metadata": {},
   "outputs": [
    {
     "data": {
      "text/plain": [
       "0.1418794142211026"
      ]
     },
     "execution_count": 23,
     "metadata": {},
     "output_type": "execute_result"
    }
   ],
   "source": [
    "#b) Qual o valor de p?\n",
    "p\n",
    "\n",
    "#O valor de p é de 0,1418"
   ]
  },
  {
   "cell_type": "code",
   "execution_count": 45,
   "id": "1bc7f50c",
   "metadata": {},
   "outputs": [
    {
     "name": "stdout",
     "output_type": "stream",
     "text": [
      "5.991464547107979\n",
      "Sexo NÃO influenciou em ser herói/vilão (Não conseguimos rejeitar H0)\n"
     ]
    }
   ],
   "source": [
    "#c) A hipótese nula é rejeitada em favor da hipótese alternativa?\n",
    "prob = 0.95\n",
    "valor_critico = chi2.ppf(prob, dof)\n",
    "print(valor_critico)\n",
    "\n",
    "if abs(chi2stat) >= valor_critico:\n",
    "\tprint('Sexo influenciou em ser herói/vilão(Rejeitar H0)')\n",
    "else:\n",
    "\tprint('Sexo NÃO influenciou em ser herói/vilão (Não conseguimos rejeitar H0)')\n",
    "\n",
    "#O P-valor encontrado é superior ao alfa de 0,05, logo a um nível de confiança de 5%, não foram encontradas evidencias para\n",
    "#rejeitar a hipótese nula"
   ]
  },
  {
   "cell_type": "code",
   "execution_count": 25,
   "id": "03437538",
   "metadata": {},
   "outputs": [
    {
     "data": {
      "text/plain": [
       "0.20577736110739284"
      ]
     },
     "execution_count": 25,
     "metadata": {},
     "output_type": "execute_result"
    }
   ],
   "source": [
    "#10)Para esta questão, considere apenas personagens bons (Good Characters) e maus (Bad Characters) e \n",
    "#identidades públicas (Public Identity) e secretas (Secret Identity). Responda:\n",
    "#a)  Qual o Coeficiente de Matthews entre Personagens Bons e Identidades Públicas?\n",
    "Bons = base['ALIGN']==\"Good Characters\"\n",
    "Secreto = base['ID']==\"Public Identity\"\n",
    "matthews_corrcoef(Bons, Secreto)"
   ]
  },
  {
   "cell_type": "code",
   "execution_count": 26,
   "id": "9082c7b9",
   "metadata": {},
   "outputs": [
    {
     "data": {
      "text/plain": [
       "0.3325458384852794"
      ]
     },
     "execution_count": 26,
     "metadata": {},
     "output_type": "execute_result"
    }
   ],
   "source": [
    "#b) Qual o Coeficiente de Matthews entre Personagens Maus e Identidades Secretas?\n",
    "Maus = base['ALIGN']==\"Bad Characters\"\n",
    "Secreto2 = base['ID']==\"Secret Identity\"\n",
    "matthews_corrcoef(Maus, Secreto2)"
   ]
  },
  {
   "cell_type": "code",
   "execution_count": 27,
   "id": "17f07ebe",
   "metadata": {},
   "outputs": [
    {
     "data": {
      "text/plain": [
       "0.0"
      ]
     },
     "execution_count": 27,
     "metadata": {},
     "output_type": "execute_result"
    }
   ],
   "source": [
    "#c)c) Existe uma forte associação entre o alinhamento da personagem e o tipo de sua identidade? \n",
    "#Qual o coeficiente de Matthews?\n",
    "matthews_corrcoef(base['ALIGN'], base['ID'])"
   ]
  },
  {
   "cell_type": "code",
   "execution_count": 34,
   "id": "cad1bf72",
   "metadata": {},
   "outputs": [
    {
     "data": {
      "text/plain": [
       "3.6803627785048887"
      ]
     },
     "execution_count": 34,
     "metadata": {},
     "output_type": "execute_result"
    }
   ],
   "source": [
    "#11)Quantos desvios padrões está da média uma personagem com 360 aparições? Use até duas casas decimais em sua resposta.\n",
    "\n",
    "#Como vimos a média equivale a 57.447368\n",
    "#E o Desvio padrão 82.207285\n",
    "\n",
    "qtd_desv=(360-media)/devpd\n",
    "qtd_desv\n"
   ]
  },
  {
   "cell_type": "code",
   "execution_count": 29,
   "id": "b1a87fd5",
   "metadata": {},
   "outputs": [],
   "source": [
    "#12)Para esta questão, considere apenas personagens maus (Bad Characters) e identidades públicas (Public Identity) \n",
    "#e secretas (Secret Identity). Teste a hipótese de que personagens maus tendem a ser mais do tipo que possuem \n",
    "#uma identidade secreta ao invés de uma identidade pública. Responda:\n",
    "#a) Qual o tipo de teste mais adequado para testar essa hipótese?\n",
    "\n",
    "#O teste mais adequado é o teste F\n"
   ]
  },
  {
   "cell_type": "code",
   "execution_count": 41,
   "id": "68e6d1ac",
   "metadata": {},
   "outputs": [
    {
     "name": "stdout",
     "output_type": "stream",
     "text": [
      "['Public Identity' 'Secret Identity']\n",
      "O valor de F é:  4.476122185572923\n"
     ]
    }
   ],
   "source": [
    "#b) Qual o valor da estatística do teste (valor de Z ou T ou X2 ou F)?\n",
    "\n",
    "base['Maus']=Maus\n",
    "df_anova = base[['Maus', 'ID']]\n",
    "ident = pd.unique(df_anova.ID.values)\n",
    "print(ident)\n",
    "f1_df = {id:df_anova['Maus'][df_anova.ID == id] for id in ident}\n",
    "F, p = stats.f_oneway(f1_df['Public Identity'], f1_df['Secret Identity'])\n",
    "\n",
    "print(\"O valor de F é: \", F)\n"
   ]
  },
  {
   "cell_type": "code",
   "execution_count": 42,
   "id": "e947768e",
   "metadata": {},
   "outputs": [
    {
     "name": "stdout",
     "output_type": "stream",
     "text": [
      "Rejeita H0\n"
     ]
    }
   ],
   "source": [
    "#c) A hipótese nula é rejeitada em favor da hipótese alternativa?\n",
    "if p<0.05:\n",
    "    print(\"Rejeita H0\")\n",
    "else:\n",
    "    print(\"Falha em rejeitar H0\")"
   ]
  }
 ],
 "metadata": {
  "kernelspec": {
   "display_name": "Python 3",
   "language": "python",
   "name": "python3"
  },
  "language_info": {
   "codemirror_mode": {
    "name": "ipython",
    "version": 3
   },
   "file_extension": ".py",
   "mimetype": "text/x-python",
   "name": "python",
   "nbconvert_exporter": "python",
   "pygments_lexer": "ipython3",
   "version": "3.8.8"
  }
 },
 "nbformat": 4,
 "nbformat_minor": 5
}
